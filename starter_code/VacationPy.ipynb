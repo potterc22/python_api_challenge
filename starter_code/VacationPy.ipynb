{
 "cells": [
  {
   "cell_type": "markdown",
   "metadata": {},
   "source": [
    "# VacationPy\n",
    "----\n",
    "\n",
    "#### Note\n",
    "* Keep an eye on your API usage. Use https://developers.google.com/maps/reporting/gmp-reporting as reference for how to monitor your usage and billing.\n",
    "\n",
    "* Instructions have been included for each segment. You do not have to follow them exactly, but they are included to help you think through the steps."
   ]
  },
  {
   "cell_type": "code",
   "execution_count": 12,
   "metadata": {},
   "outputs": [],
   "source": [
    "# Dependencies and Setup\n",
    "import matplotlib.pyplot as plt\n",
    "import pandas as pd\n",
    "import numpy as np\n",
    "import requests\n",
    "import json\n",
    "import gmaps\n",
    "import os\n",
    "\n",
    "# Import API key\n",
    "from config import g_key"
   ]
  },
  {
   "cell_type": "markdown",
   "metadata": {},
   "source": [
    "### Store Part I results into DataFrame\n",
    "* Load the csv exported in Part I to a DataFrame"
   ]
  },
  {
   "cell_type": "code",
   "execution_count": 4,
   "metadata": {},
   "outputs": [
    {
     "output_type": "execute_result",
     "data": {
      "text/plain": "                   Lat     Lng  Max Temp  Humidity  Cloudiness  Wind Speed  \\\nCity                                                                         \nhobart          -42.88  147.33      48.2        70          92        8.05   \npraia            14.92  -23.51      86.0        66          75       11.41   \narraial do cabo -22.97  -42.03      84.2        58          54       20.80   \npuerto ayora     -0.74  -90.35      75.2        60          40       19.46   \nkapaa            22.08 -159.32      80.6        69          40       13.87   \n\n                Country        Date  \nCity                                 \nhobart               AU  1599760851  \npraia                CV  1599761598  \narraial do cabo      BR  1599760985  \npuerto ayora         EC  1599760886  \nkapaa                US  1599761049  ",
      "text/html": "<div>\n<style scoped>\n    .dataframe tbody tr th:only-of-type {\n        vertical-align: middle;\n    }\n\n    .dataframe tbody tr th {\n        vertical-align: top;\n    }\n\n    .dataframe thead th {\n        text-align: right;\n    }\n</style>\n<table border=\"1\" class=\"dataframe\">\n  <thead>\n    <tr style=\"text-align: right;\">\n      <th></th>\n      <th>Lat</th>\n      <th>Lng</th>\n      <th>Max Temp</th>\n      <th>Humidity</th>\n      <th>Cloudiness</th>\n      <th>Wind Speed</th>\n      <th>Country</th>\n      <th>Date</th>\n    </tr>\n    <tr>\n      <th>City</th>\n      <th></th>\n      <th></th>\n      <th></th>\n      <th></th>\n      <th></th>\n      <th></th>\n      <th></th>\n      <th></th>\n    </tr>\n  </thead>\n  <tbody>\n    <tr>\n      <th>hobart</th>\n      <td>-42.88</td>\n      <td>147.33</td>\n      <td>48.2</td>\n      <td>70</td>\n      <td>92</td>\n      <td>8.05</td>\n      <td>AU</td>\n      <td>1599760851</td>\n    </tr>\n    <tr>\n      <th>praia</th>\n      <td>14.92</td>\n      <td>-23.51</td>\n      <td>86.0</td>\n      <td>66</td>\n      <td>75</td>\n      <td>11.41</td>\n      <td>CV</td>\n      <td>1599761598</td>\n    </tr>\n    <tr>\n      <th>arraial do cabo</th>\n      <td>-22.97</td>\n      <td>-42.03</td>\n      <td>84.2</td>\n      <td>58</td>\n      <td>54</td>\n      <td>20.80</td>\n      <td>BR</td>\n      <td>1599760985</td>\n    </tr>\n    <tr>\n      <th>puerto ayora</th>\n      <td>-0.74</td>\n      <td>-90.35</td>\n      <td>75.2</td>\n      <td>60</td>\n      <td>40</td>\n      <td>19.46</td>\n      <td>EC</td>\n      <td>1599760886</td>\n    </tr>\n    <tr>\n      <th>kapaa</th>\n      <td>22.08</td>\n      <td>-159.32</td>\n      <td>80.6</td>\n      <td>69</td>\n      <td>40</td>\n      <td>13.87</td>\n      <td>US</td>\n      <td>1599761049</td>\n    </tr>\n  </tbody>\n</table>\n</div>"
     },
     "metadata": {},
     "execution_count": 4
    }
   ],
   "source": [
    "weather_file = '../Output/weather_data.csv'\n",
    "weather_data = pd.read_csv(weather_file)\n",
    "weather_data = weather_data.set_index('City')\n",
    "weather_data = weather_data.drop(columns=['Unnamed: 0'])\n",
    "weather_data.head()"
   ]
  },
  {
   "cell_type": "markdown",
   "metadata": {},
   "source": [
    "### Humidity Heatmap\n",
    "* Configure gmaps.\n",
    "* Use the Lat and Lng as locations and Humidity as the weight.\n",
    "* Add Heatmap layer to map."
   ]
  },
  {
   "cell_type": "code",
   "execution_count": 5,
   "metadata": {},
   "outputs": [],
   "source": [
    "# Configure gmaps\n",
    "gmaps.configure(api_key=g_key)"
   ]
  },
  {
   "cell_type": "code",
   "execution_count": 9,
   "metadata": {},
   "outputs": [
    {
     "output_type": "display_data",
     "data": {
      "text/plain": "Figure(layout=FigureLayout(height='420px'))",
      "application/vnd.jupyter.widget-view+json": {
       "version_major": 2,
       "version_minor": 0,
       "model_id": "6eae94433a844e69ae00116927227f59"
      }
     },
     "metadata": {}
    }
   ],
   "source": [
    "# Store latitude and longitude in locations\n",
    "locations = weather_data[['Lat', 'Lng']]\n",
    "\n",
    "# store humidity in variable\n",
    "humidity = weather_data['Humidity'].astype(float)\n",
    "\n",
    "# Plot heatmap\n",
    "fig = gmaps.figure()\n",
    "\n",
    "# Create heat layer\n",
    "heat_layer = gmaps.heatmap_layer(locations, weights=humidity, dissipating=False, max_intensity=10, point_radius=1)\n",
    "\n",
    "# Add layer\n",
    "fig.add_layer(heat_layer)\n",
    "fig"
   ]
  },
  {
   "cell_type": "markdown",
   "metadata": {},
   "source": [
    "### Create new DataFrame fitting weather criteria\n",
    "* Narrow down the cities to fit weather conditions.\n",
    "* Drop any rows will null values."
   ]
  },
  {
   "cell_type": "code",
   "execution_count": 19,
   "metadata": {},
   "outputs": [
    {
     "output_type": "execute_result",
     "data": {
      "text/plain": "                City    Lat     Lng  Max Temp  Humidity  Cloudiness  \\\n0              khash  28.22   61.22     70.88        21           0   \n1               buin -33.73  -70.75     69.01        48           0   \n2       saint george  37.10 -113.58     72.00        27           1   \n3             yulara -25.24  130.99     68.00        28           0   \n4              gazli  40.13   63.45     69.57        23           0   \n5            zambezi -13.54   23.10     69.82        23          23   \n6            mattawa  46.74 -119.90     75.20        40           1   \n7           santiago -33.46  -70.65     69.01        48           2   \n8              sayat  38.78   63.88     73.40        21           0   \n9           sheridan  44.83 -106.92     66.20        29           1   \n10          matucana -11.85  -76.40     71.51        24           0   \n11         katherine -14.47  132.27     75.20        44          19   \n12          chiredzi -21.05   31.67     71.35        43          18   \n13         williston  48.15 -103.62     71.01        38           0   \n14         las vegas  36.17 -115.14     77.00        15           1   \n15           prieska -29.66   22.75     78.75        17           0   \n16            songea -10.68   35.65     71.60        46          20   \n17      novopokrovka  49.84   36.55     69.80        43          11   \n18             zomin  39.96   68.40     68.02        24           0   \n19        kaspiyskiy  45.39   47.37     69.42        44           0   \n20           klisura  42.70   24.45     77.00        47           5   \n21  fort saint james  54.43 -124.25     68.85        49           1   \n\n    Wind Speed Country        Date  \n0         8.93      IR  1599761612  \n1         5.82      CL  1599761620  \n2         3.36      US  1599760875  \n3         1.12      AU  1599761635  \n4         9.55      UZ  1599761636  \n5         5.39      ZM  1599761653  \n6         2.68      US  1599761654  \n7         5.82      CL  1599761440  \n8         9.17      TM  1599761659  \n9         5.82      US  1599761659  \n10        5.44      PE  1599761665  \n11        4.70      AU  1599761672  \n12        6.91      ZW  1599761676  \n13        3.00      US  1599761679  \n14        5.10      US  1599761394  \n15        4.16      ZA  1599761690  \n16        3.36      TZ  1599761691  \n17        6.71      UA  1599761691  \n18        4.36      UZ  1599761694  \n19        1.12      RU  1599761696  \n20        4.70      BG  1599761697  \n21        0.92      CA  1599761700  ",
      "text/html": "<div>\n<style scoped>\n    .dataframe tbody tr th:only-of-type {\n        vertical-align: middle;\n    }\n\n    .dataframe tbody tr th {\n        vertical-align: top;\n    }\n\n    .dataframe thead th {\n        text-align: right;\n    }\n</style>\n<table border=\"1\" class=\"dataframe\">\n  <thead>\n    <tr style=\"text-align: right;\">\n      <th></th>\n      <th>City</th>\n      <th>Lat</th>\n      <th>Lng</th>\n      <th>Max Temp</th>\n      <th>Humidity</th>\n      <th>Cloudiness</th>\n      <th>Wind Speed</th>\n      <th>Country</th>\n      <th>Date</th>\n    </tr>\n  </thead>\n  <tbody>\n    <tr>\n      <th>0</th>\n      <td>khash</td>\n      <td>28.22</td>\n      <td>61.22</td>\n      <td>70.88</td>\n      <td>21</td>\n      <td>0</td>\n      <td>8.93</td>\n      <td>IR</td>\n      <td>1599761612</td>\n    </tr>\n    <tr>\n      <th>1</th>\n      <td>buin</td>\n      <td>-33.73</td>\n      <td>-70.75</td>\n      <td>69.01</td>\n      <td>48</td>\n      <td>0</td>\n      <td>5.82</td>\n      <td>CL</td>\n      <td>1599761620</td>\n    </tr>\n    <tr>\n      <th>2</th>\n      <td>saint george</td>\n      <td>37.10</td>\n      <td>-113.58</td>\n      <td>72.00</td>\n      <td>27</td>\n      <td>1</td>\n      <td>3.36</td>\n      <td>US</td>\n      <td>1599760875</td>\n    </tr>\n    <tr>\n      <th>3</th>\n      <td>yulara</td>\n      <td>-25.24</td>\n      <td>130.99</td>\n      <td>68.00</td>\n      <td>28</td>\n      <td>0</td>\n      <td>1.12</td>\n      <td>AU</td>\n      <td>1599761635</td>\n    </tr>\n    <tr>\n      <th>4</th>\n      <td>gazli</td>\n      <td>40.13</td>\n      <td>63.45</td>\n      <td>69.57</td>\n      <td>23</td>\n      <td>0</td>\n      <td>9.55</td>\n      <td>UZ</td>\n      <td>1599761636</td>\n    </tr>\n    <tr>\n      <th>5</th>\n      <td>zambezi</td>\n      <td>-13.54</td>\n      <td>23.10</td>\n      <td>69.82</td>\n      <td>23</td>\n      <td>23</td>\n      <td>5.39</td>\n      <td>ZM</td>\n      <td>1599761653</td>\n    </tr>\n    <tr>\n      <th>6</th>\n      <td>mattawa</td>\n      <td>46.74</td>\n      <td>-119.90</td>\n      <td>75.20</td>\n      <td>40</td>\n      <td>1</td>\n      <td>2.68</td>\n      <td>US</td>\n      <td>1599761654</td>\n    </tr>\n    <tr>\n      <th>7</th>\n      <td>santiago</td>\n      <td>-33.46</td>\n      <td>-70.65</td>\n      <td>69.01</td>\n      <td>48</td>\n      <td>2</td>\n      <td>5.82</td>\n      <td>CL</td>\n      <td>1599761440</td>\n    </tr>\n    <tr>\n      <th>8</th>\n      <td>sayat</td>\n      <td>38.78</td>\n      <td>63.88</td>\n      <td>73.40</td>\n      <td>21</td>\n      <td>0</td>\n      <td>9.17</td>\n      <td>TM</td>\n      <td>1599761659</td>\n    </tr>\n    <tr>\n      <th>9</th>\n      <td>sheridan</td>\n      <td>44.83</td>\n      <td>-106.92</td>\n      <td>66.20</td>\n      <td>29</td>\n      <td>1</td>\n      <td>5.82</td>\n      <td>US</td>\n      <td>1599761659</td>\n    </tr>\n    <tr>\n      <th>10</th>\n      <td>matucana</td>\n      <td>-11.85</td>\n      <td>-76.40</td>\n      <td>71.51</td>\n      <td>24</td>\n      <td>0</td>\n      <td>5.44</td>\n      <td>PE</td>\n      <td>1599761665</td>\n    </tr>\n    <tr>\n      <th>11</th>\n      <td>katherine</td>\n      <td>-14.47</td>\n      <td>132.27</td>\n      <td>75.20</td>\n      <td>44</td>\n      <td>19</td>\n      <td>4.70</td>\n      <td>AU</td>\n      <td>1599761672</td>\n    </tr>\n    <tr>\n      <th>12</th>\n      <td>chiredzi</td>\n      <td>-21.05</td>\n      <td>31.67</td>\n      <td>71.35</td>\n      <td>43</td>\n      <td>18</td>\n      <td>6.91</td>\n      <td>ZW</td>\n      <td>1599761676</td>\n    </tr>\n    <tr>\n      <th>13</th>\n      <td>williston</td>\n      <td>48.15</td>\n      <td>-103.62</td>\n      <td>71.01</td>\n      <td>38</td>\n      <td>0</td>\n      <td>3.00</td>\n      <td>US</td>\n      <td>1599761679</td>\n    </tr>\n    <tr>\n      <th>14</th>\n      <td>las vegas</td>\n      <td>36.17</td>\n      <td>-115.14</td>\n      <td>77.00</td>\n      <td>15</td>\n      <td>1</td>\n      <td>5.10</td>\n      <td>US</td>\n      <td>1599761394</td>\n    </tr>\n    <tr>\n      <th>15</th>\n      <td>prieska</td>\n      <td>-29.66</td>\n      <td>22.75</td>\n      <td>78.75</td>\n      <td>17</td>\n      <td>0</td>\n      <td>4.16</td>\n      <td>ZA</td>\n      <td>1599761690</td>\n    </tr>\n    <tr>\n      <th>16</th>\n      <td>songea</td>\n      <td>-10.68</td>\n      <td>35.65</td>\n      <td>71.60</td>\n      <td>46</td>\n      <td>20</td>\n      <td>3.36</td>\n      <td>TZ</td>\n      <td>1599761691</td>\n    </tr>\n    <tr>\n      <th>17</th>\n      <td>novopokrovka</td>\n      <td>49.84</td>\n      <td>36.55</td>\n      <td>69.80</td>\n      <td>43</td>\n      <td>11</td>\n      <td>6.71</td>\n      <td>UA</td>\n      <td>1599761691</td>\n    </tr>\n    <tr>\n      <th>18</th>\n      <td>zomin</td>\n      <td>39.96</td>\n      <td>68.40</td>\n      <td>68.02</td>\n      <td>24</td>\n      <td>0</td>\n      <td>4.36</td>\n      <td>UZ</td>\n      <td>1599761694</td>\n    </tr>\n    <tr>\n      <th>19</th>\n      <td>kaspiyskiy</td>\n      <td>45.39</td>\n      <td>47.37</td>\n      <td>69.42</td>\n      <td>44</td>\n      <td>0</td>\n      <td>1.12</td>\n      <td>RU</td>\n      <td>1599761696</td>\n    </tr>\n    <tr>\n      <th>20</th>\n      <td>klisura</td>\n      <td>42.70</td>\n      <td>24.45</td>\n      <td>77.00</td>\n      <td>47</td>\n      <td>5</td>\n      <td>4.70</td>\n      <td>BG</td>\n      <td>1599761697</td>\n    </tr>\n    <tr>\n      <th>21</th>\n      <td>fort saint james</td>\n      <td>54.43</td>\n      <td>-124.25</td>\n      <td>68.85</td>\n      <td>49</td>\n      <td>1</td>\n      <td>0.92</td>\n      <td>CA</td>\n      <td>1599761700</td>\n    </tr>\n  </tbody>\n</table>\n</div>"
     },
     "metadata": {},
     "execution_count": 19
    }
   ],
   "source": [
    "ideal_weather = weather_data.loc[(weather_data['Max Temp'] < 80) & (weather_data['Max Temp'] > 65) & (weather_data['Wind Speed'] < 10) & (weather_data['Cloudiness'] < 30) & (weather_data['Humidity'] < 50)]\n",
    "# Drop any rows with null values\n",
    "ideal_weather.dropna(inplace=True)\n",
    "ideal_weather = ideal_weather.reset_index()\n",
    "ideal_weather"
   ]
  },
  {
   "cell_type": "markdown",
   "metadata": {},
   "source": [
    "### Hotel Map\n",
    "* Store into variable named `hotel_df`.\n",
    "* Add a \"Hotel Name\" column to the DataFrame.\n",
    "* Set parameters to search for hotels with 5000 meters.\n",
    "* Hit the Google Places API for each city's coordinates.\n",
    "* Store the first Hotel result into the DataFrame.\n",
    "* Plot markers on top of the heatmap."
   ]
  },
  {
   "cell_type": "code",
   "execution_count": 20,
   "metadata": {},
   "outputs": [
    {
     "output_type": "execute_result",
     "data": {
      "text/plain": "                City    Lat     Lng Hotel Name\n0              khash  28.22   61.22           \n1               buin -33.73  -70.75           \n2       saint george  37.10 -113.58           \n3             yulara -25.24  130.99           \n4              gazli  40.13   63.45           \n5            zambezi -13.54   23.10           \n6            mattawa  46.74 -119.90           \n7           santiago -33.46  -70.65           \n8              sayat  38.78   63.88           \n9           sheridan  44.83 -106.92           \n10          matucana -11.85  -76.40           \n11         katherine -14.47  132.27           \n12          chiredzi -21.05   31.67           \n13         williston  48.15 -103.62           \n14         las vegas  36.17 -115.14           \n15           prieska -29.66   22.75           \n16            songea -10.68   35.65           \n17      novopokrovka  49.84   36.55           \n18             zomin  39.96   68.40           \n19        kaspiyskiy  45.39   47.37           \n20           klisura  42.70   24.45           \n21  fort saint james  54.43 -124.25           ",
      "text/html": "<div>\n<style scoped>\n    .dataframe tbody tr th:only-of-type {\n        vertical-align: middle;\n    }\n\n    .dataframe tbody tr th {\n        vertical-align: top;\n    }\n\n    .dataframe thead th {\n        text-align: right;\n    }\n</style>\n<table border=\"1\" class=\"dataframe\">\n  <thead>\n    <tr style=\"text-align: right;\">\n      <th></th>\n      <th>City</th>\n      <th>Lat</th>\n      <th>Lng</th>\n      <th>Hotel Name</th>\n    </tr>\n  </thead>\n  <tbody>\n    <tr>\n      <th>0</th>\n      <td>khash</td>\n      <td>28.22</td>\n      <td>61.22</td>\n      <td></td>\n    </tr>\n    <tr>\n      <th>1</th>\n      <td>buin</td>\n      <td>-33.73</td>\n      <td>-70.75</td>\n      <td></td>\n    </tr>\n    <tr>\n      <th>2</th>\n      <td>saint george</td>\n      <td>37.10</td>\n      <td>-113.58</td>\n      <td></td>\n    </tr>\n    <tr>\n      <th>3</th>\n      <td>yulara</td>\n      <td>-25.24</td>\n      <td>130.99</td>\n      <td></td>\n    </tr>\n    <tr>\n      <th>4</th>\n      <td>gazli</td>\n      <td>40.13</td>\n      <td>63.45</td>\n      <td></td>\n    </tr>\n    <tr>\n      <th>5</th>\n      <td>zambezi</td>\n      <td>-13.54</td>\n      <td>23.10</td>\n      <td></td>\n    </tr>\n    <tr>\n      <th>6</th>\n      <td>mattawa</td>\n      <td>46.74</td>\n      <td>-119.90</td>\n      <td></td>\n    </tr>\n    <tr>\n      <th>7</th>\n      <td>santiago</td>\n      <td>-33.46</td>\n      <td>-70.65</td>\n      <td></td>\n    </tr>\n    <tr>\n      <th>8</th>\n      <td>sayat</td>\n      <td>38.78</td>\n      <td>63.88</td>\n      <td></td>\n    </tr>\n    <tr>\n      <th>9</th>\n      <td>sheridan</td>\n      <td>44.83</td>\n      <td>-106.92</td>\n      <td></td>\n    </tr>\n    <tr>\n      <th>10</th>\n      <td>matucana</td>\n      <td>-11.85</td>\n      <td>-76.40</td>\n      <td></td>\n    </tr>\n    <tr>\n      <th>11</th>\n      <td>katherine</td>\n      <td>-14.47</td>\n      <td>132.27</td>\n      <td></td>\n    </tr>\n    <tr>\n      <th>12</th>\n      <td>chiredzi</td>\n      <td>-21.05</td>\n      <td>31.67</td>\n      <td></td>\n    </tr>\n    <tr>\n      <th>13</th>\n      <td>williston</td>\n      <td>48.15</td>\n      <td>-103.62</td>\n      <td></td>\n    </tr>\n    <tr>\n      <th>14</th>\n      <td>las vegas</td>\n      <td>36.17</td>\n      <td>-115.14</td>\n      <td></td>\n    </tr>\n    <tr>\n      <th>15</th>\n      <td>prieska</td>\n      <td>-29.66</td>\n      <td>22.75</td>\n      <td></td>\n    </tr>\n    <tr>\n      <th>16</th>\n      <td>songea</td>\n      <td>-10.68</td>\n      <td>35.65</td>\n      <td></td>\n    </tr>\n    <tr>\n      <th>17</th>\n      <td>novopokrovka</td>\n      <td>49.84</td>\n      <td>36.55</td>\n      <td></td>\n    </tr>\n    <tr>\n      <th>18</th>\n      <td>zomin</td>\n      <td>39.96</td>\n      <td>68.40</td>\n      <td></td>\n    </tr>\n    <tr>\n      <th>19</th>\n      <td>kaspiyskiy</td>\n      <td>45.39</td>\n      <td>47.37</td>\n      <td></td>\n    </tr>\n    <tr>\n      <th>20</th>\n      <td>klisura</td>\n      <td>42.70</td>\n      <td>24.45</td>\n      <td></td>\n    </tr>\n    <tr>\n      <th>21</th>\n      <td>fort saint james</td>\n      <td>54.43</td>\n      <td>-124.25</td>\n      <td></td>\n    </tr>\n  </tbody>\n</table>\n</div>"
     },
     "metadata": {},
     "execution_count": 20
    }
   ],
   "source": [
    "hotel_df = ideal_weather[['City', \"Lat\", 'Lng']]\n",
    "hotel_df['Hotel Name'] = \"\"\n",
    "hotel_df"
   ]
  },
  {
   "cell_type": "code",
   "execution_count": null,
   "metadata": {},
   "outputs": [],
   "source": []
  },
  {
   "cell_type": "code",
   "execution_count": null,
   "metadata": {},
   "outputs": [],
   "source": [
    "# NOTE: Do not change any of the code in this cell\n",
    "\n",
    "# Using the template add the hotel marks to the heatmap\n",
    "info_box_template = \"\"\"\n",
    "<dl>\n",
    "<dt>Name</dt><dd>{Hotel Name}</dd>\n",
    "<dt>City</dt><dd>{City}</dd>\n",
    "<dt>Country</dt><dd>{Country}</dd>\n",
    "</dl>\n",
    "\"\"\"\n",
    "# Store the DataFrame Row\n",
    "# NOTE: be sure to update with your DataFrame name\n",
    "hotel_info = [info_box_template.format(**row) for index, row in hotel_df.iterrows()]\n",
    "locations = hotel_df[[\"Lat\", \"Lng\"]]"
   ]
  },
  {
   "cell_type": "code",
   "execution_count": null,
   "metadata": {},
   "outputs": [],
   "source": [
    "# Add marker layer ontop of heat map\n",
    "\n",
    "\n",
    "# Display figure\n"
   ]
  },
  {
   "cell_type": "code",
   "execution_count": null,
   "metadata": {},
   "outputs": [],
   "source": []
  }
 ],
 "metadata": {
  "kernelspec": {
   "display_name": "Python 3.6.10 64-bit",
   "language": "python",
   "name": "python_defaultSpec_1599943334774"
  },
  "language_info": {
   "codemirror_mode": {
    "name": "ipython",
    "version": 3
   },
   "file_extension": ".py",
   "mimetype": "text/x-python",
   "name": "python",
   "nbconvert_exporter": "python",
   "pygments_lexer": "ipython3",
   "version": "3.6.10-final"
  },
  "latex_envs": {
   "LaTeX_envs_menu_present": true,
   "autoclose": false,
   "autocomplete": true,
   "bibliofile": "biblio.bib",
   "cite_by": "apalike",
   "current_citInitial": 1,
   "eqLabelWithNumbers": true,
   "eqNumInitial": 1,
   "hotkeys": {
    "equation": "Ctrl-E",
    "itemize": "Ctrl-I"
   },
   "labels_anchors": false,
   "latex_user_defs": false,
   "report_style_numbering": false,
   "user_envs_cfg": false
  }
 },
 "nbformat": 4,
 "nbformat_minor": 4
}